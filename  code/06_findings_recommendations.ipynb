{
 "cells": [
  {
   "cell_type": "markdown",
   "id": "057cb15f-15aa-43c4-aff3-bf5359a0541e",
   "metadata": {},
   "source": [
    "# San Francisco Affordable Housing Predictive Modeling\n",
    "\n",
    "---\n",
    "\n",
    "## Part 6: Findings & Recommendations"
   ]
  },
  {
   "cell_type": "markdown",
   "id": "f45f6661-a150-4358-960f-017b1b238ed8",
   "metadata": {},
   "source": [
    "---\n",
    "\n",
    "## Notebook Summary\n",
    "\n",
    "This notebook synthesizes the findings from our EDA, clustering production model, and time series models and then bolsters those findings into recommendations for the San Francisco Mayor's Office of Housing and Community Development. In this notebook, the reader will find:\n",
    "\n",
    "* Data Architecture Finding & Recommendation\n",
    "* Exploratory Data Analysis Findings & Recommendations\n",
    "* Clustering Model Finding & Recommendation\n",
    "* Time Series Finding & Recommendation"
   ]
  },
  {
   "cell_type": "markdown",
   "id": "70ce4405-da0e-44a3-b617-f3f2932687da",
   "metadata": {},
   "source": [
    "---\n",
    "\n",
    "## Data Architecture Finding & Recommendation\n",
    "\n",
    "**FINDING**: San Francisco has made an effort to release city data to the general public and make local governance more transparent and accessible. Data is collected by departments in multiple places, some or which is duplicative and others of which represent large gaps. Even within the same department, such as the Planning Department, there are wild inconsistencies in data collection from year to year and even quarter to quarter.\n",
    "\n",
    "**RECOMMENDATION**: If the Mayor's Office of Housing and Community Development wishes to make more data-driven decisions or train more machine learning models, MOHCD should partner with other departments like the Planning Department to lobby the Mayor for more data architects or data engineers on staff. The current state of data records are no amenable to analysis or modeling. A small group of data engineers or architects could standardize data collection across multiple city departments and over time for improved machine learning models in the future."
   ]
  },
  {
   "cell_type": "markdown",
   "id": "598708c6-c1d4-4a17-95fa-0e21ae2af4d2",
   "metadata": {},
   "source": [
    "---\n",
    "\n",
    "## Exploratory Data Analysis Finding & Recommendation\n",
    "\n",
    "**FINDING 1**: A few large outlier development projects are responsible for the overwhelming majority of net new affordable units and a larger proportion of them at in mixed residential zoned land uses as opposed to residential land uses.\n",
    "\n",
    "**RECOMMENDATION 1**: MOHCD needs to find ways to attract many more large-scale mixed residential development projects with affordable housing targets embedded in the design and construction, as these projects historically yield the most net affordable units.\n",
    "\n",
    "**FINDING 2**: With 4,106 projects in the pipeline only about 1,200 are currently under construction (~30%) with as many projects stalled at the phase of a building permit being filed with the Department of Building Inspections.\n",
    "\n",
    "**RECOMMENDATION 2**: MOHCD needs to work with the Mayor's Office to expedite development projects with clear affordable housing targets, trying to put leapfrog these projects to the head of the Building Inspections line."
   ]
  },
  {
   "cell_type": "markdown",
   "id": "90ac9a5b-f8e1-4fa2-9b39-22b53179ccec",
   "metadata": {},
   "source": [
    "---\n",
    "\n",
    "## Clustering Model Finding & Recommendation\n",
    "\n",
    "**FINDING**: Our clustering model did not have a high enough silhouette score or show us clear geographic or housing distinctions in the clusters. Our EDA did uncover that the large project outliers with high net affordable units were all located in cluster 5 and that the highest proportion affordable to total net units occurred in clusters 9 and 10.\n",
    "\n",
    "**RECOMMENDATION**: Although our clustering production model failed to show enough distinct characteristics for our clusters, a more thorough qualitative analysis should be conducted of development projects in cluster 5 which represent our high impact housing outliers as well as cluster 9 and 10 which have the biggest affordable housing bang for our buck. Staff in the MOHCD more familiar with the specific development projects in these three clusters should gather more qualitative data about what these projects have in common."
   ]
  },
  {
   "cell_type": "markdown",
   "id": "68bc29d5-7a79-43de-93f4-0f295afc16b7",
   "metadata": {},
   "source": [
    "---\n",
    "\n",
    "## Time Series Finding & Recommendation\n",
    "\n",
    "**FINDING**: Our multiple time series models all failed to meet the threshold of a serviceable prediction for future new construction or units in the construction pipeline. The best models performed almost as well as our null models.\n",
    "\n",
    "**RECOMMENDATION**: MOHCD cannot adequately predict future affordable housing. Although hiring a data architect or engineer to better track city data might change this outlook in the future as our data becomes more reliable, the stationarity assumption of the data is tenuous at best, so time series modeling is not appropriate in this given situation. It is in the best interest of the Office to focus its policy efforts on increasing the number of new affordable housing projects pushed expediently through the pipeline as the historic mean for new construction remains low and well below the targets set by the city and the state."
   ]
  }
 ],
 "metadata": {
  "kernelspec": {
   "display_name": "Python 3 (ipykernel)",
   "language": "python",
   "name": "python3"
  },
  "language_info": {
   "codemirror_mode": {
    "name": "ipython",
    "version": 3
   },
   "file_extension": ".py",
   "mimetype": "text/x-python",
   "name": "python",
   "nbconvert_exporter": "python",
   "pygments_lexer": "ipython3",
   "version": "3.8.16"
  }
 },
 "nbformat": 4,
 "nbformat_minor": 5
}
