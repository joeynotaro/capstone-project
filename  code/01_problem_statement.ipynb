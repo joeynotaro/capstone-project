{
 "cells": [
  {
   "cell_type": "markdown",
   "id": "00e0af08-a7ba-43b9-9e5d-df3503e3ed17",
   "metadata": {},
   "source": [
    "# San Francisco Affordable Housing Predictive Modeling\n",
    "\n",
    "---\n",
    "\n",
    "## Part 1: Problem Statement"
   ]
  },
  {
   "cell_type": "markdown",
   "id": "d47c41c3-1c2a-44e5-ad18-2ecd636e1dc5",
   "metadata": {},
   "source": [
    "---\n",
    "\n",
    "## Notebook Summary\n",
    "\n",
    "This notebook summarizes the problem statement for this project, including metrics for solving the problem, the intended audience, and any necessary background information. In this notebook, the reader will find:\n",
    "\n",
    "* Problem Statement\n",
    "* Background Information\n",
    "* Notebook Conclusion"
   ]
  },
  {
   "cell_type": "markdown",
   "id": "81d5c54c-4801-42c3-93bc-e667aa488605",
   "metadata": {},
   "source": [
    "---\n",
    "\n",
    "## Problem Statement\n",
    "\n",
    "The San Francisco Mayor's Office of Housing and Community Development (MOHCD) is concerned with the pace of construction of new housing and particularly affordable housing in the city. The MOHCD is trying to identify which kinds of development projects have been greenlighted by the San Francisco Planning Department in recent years to ascertain:\n",
    "\n",
    "* What traits or characteristics do large housing unit, especially large affordable housing unit, projects have in common to promote for future development?\n",
    "* Can we use knowledge of recent past construction numbers to predict future construction trends and make reasonable projects of whether the city is on track to keep up with affordable housing targets?\n",
    "\n",
    "As the data scientists in charge, we will judge our success on the first question using a clustering model. This clustering model should have a silhouette score of at least 0.75 to sufficiently see distinct enough clusters for us to analyze. Furthermore, we should be able to name some key trends of which clusters have the largest amount of net affordable unit construction and what other key features they might have in common.\n",
    "\n",
    "Regarding the second question, we will use a litany of time series models and judge success based on the root mean squared error as our evaluation tool. Any successful time series model will possess a root mean squared error at least 50% less than our null model's performance."
   ]
  },
  {
   "cell_type": "markdown",
   "id": "1bc3ba98-2193-43db-9a0e-66c6be39513a",
   "metadata": {},
   "source": [
    "---\n",
    "\n",
    "## Background Information\n",
    "\n",
    "Before we get into our dataset, we should define what affordable means in the first place. The state of California has a statewide housing plan which is updated every fours under state law, including progress and ongoing construction targets [source](https://statewide-housing-plan-cahcd.hub.arcgis.com/). Affordability is defined under state law as a family spends no more than 30% of their income on housing. The exact housing cost limits for affordability look different for each family depending on family size and income. However, the U.S. Department of Housing and Urban Development releases data based on Area Median Income (AMI) [source](https://www.hcd.ca.gov/grants-and-funding/income-limits), with different bands of affordability targets falling into the following bands of AMI:\n",
    "\n",
    "* Acutely low income: 0-15% of AMI\n",
    "* Extremely low income:  15-30% of AMI\n",
    "* Very low income:  30% to 50% of AMI\n",
    "* Lower income:  50% to 80% of AMI; the term may also be used to mean 0% to 80% of AMI\n",
    "* Moderate income:  80% to 120% of AMI\n",
    "\n",
    "To give the reader some perspective, the following image shows an example of so AMI ranges for San Francisco as of 2022:\n",
    "\n",
    "![sf_ami](../images/sf_ami.png)\n",
    "\n",
    "According to SF Mayor London Breed in the Medium article, 'Meeting San Francisco's Affordable Housing Goals,' \"Of the 82,000 homes that San Francisco must accommodate over the next eight years, 46,000 must be affordable. This target of 46,000 affordable homes is actually divided into multiple levels of affordability, according to state requirements. For instance, around 1/3 of those units need to be affordable to households making 50% to 80% of Area Median Income (AMI), which is a salary of around $62,000-99,000 for a family of three.\" [source](https://londonbreed.medium.com/meeting-san-franciscos-affordable-housing-goals-6766597d66cc#:~:text=Of%20the%2082%2C000%20homes%20that,affordability%2C%20according%20to%20state%20requirements.) This article goes on to explain the budget deficit beleaguring the city and the challenges faced in combatting this decades long housing crisis.\n",
    "\n",
    "On a final note, part of the impetus for this project is compelled not just by state and city housing goals but the ongoing homelessness crisis in the city. Although San Francisco experienced a decrease in its homeless population's point in time count by 3% between 2019 and 2022, the city remains the third largest in homesless population proprtion with 887 unhoused people per 100k residents, trailing behind Los Angeles and Oakland. [source](https://sf.gov/sites/default/files/2023-07/2023%20Homelessness%20Benchmarking%20Report.pdf). The graphic below shows the severity of the housing crisis and the human impact behind failing to provide affordable housing:\n",
    "\n",
    "![homeless_count](../images/homeless_count.png)\n",
    "\n",
    "Therefore, this project attempts to address one of the root causes keeping people unhoused, the construction and access to affordable housing units for all."
   ]
  },
  {
   "cell_type": "markdown",
   "id": "dab4f3ff-c1b6-4e37-bafb-1a75b9dc836a",
   "metadata": {},
   "source": [
    "---\n",
    "\n",
    "## Notebook Conclusion\n",
    "\n",
    "This notebook framed the problem statement of identifying the contours of affordable housing in San Francisco and the ability to predict future construction trends to keep pace with demand for state and city housing targets. We also endeavored to provide brief context and background information behind what comprises affordable housing and the imperative behind being able to identify these high impact projects and project their new construction in the future. In Part 2, we begin to dig into our data and clean the data from the SF Planning Department."
   ]
  }
 ],
 "metadata": {
  "kernelspec": {
   "display_name": "Python [conda env:dsi] *",
   "language": "python",
   "name": "conda-env-dsi-py"
  },
  "language_info": {
   "codemirror_mode": {
    "name": "ipython",
    "version": 3
   },
   "file_extension": ".py",
   "mimetype": "text/x-python",
   "name": "python",
   "nbconvert_exporter": "python",
   "pygments_lexer": "ipython3",
   "version": "3.8.16"
  }
 },
 "nbformat": 4,
 "nbformat_minor": 5
}
